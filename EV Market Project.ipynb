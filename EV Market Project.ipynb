{
 "cells": [
  {
   "cell_type": "code",
   "execution_count": 1,
   "id": "bfe1e256",
   "metadata": {},
   "outputs": [],
   "source": [
    "import numpy as np\n",
    "import pandas as pd \n",
    "import matplotlib.pyplot as plt\n",
    "import seaborn as sns"
   ]
  },
  {
   "cell_type": "code",
   "execution_count": 5,
   "id": "abdbf02f",
   "metadata": {},
   "outputs": [],
   "source": [
    "data = pd.read_csv(\"/Users/shrey/Downloads/Cheapestelectriccars-EVDatabase.csv\")"
   ]
  },
  {
   "cell_type": "code",
   "execution_count": 6,
   "id": "a0fe8819",
   "metadata": {},
   "outputs": [
    {
     "data": {
      "text/html": [
       "<div>\n",
       "<style scoped>\n",
       "    .dataframe tbody tr th:only-of-type {\n",
       "        vertical-align: middle;\n",
       "    }\n",
       "\n",
       "    .dataframe tbody tr th {\n",
       "        vertical-align: top;\n",
       "    }\n",
       "\n",
       "    .dataframe thead th {\n",
       "        text-align: right;\n",
       "    }\n",
       "</style>\n",
       "<table border=\"1\" class=\"dataframe\">\n",
       "  <thead>\n",
       "    <tr style=\"text-align: right;\">\n",
       "      <th></th>\n",
       "      <th>Name</th>\n",
       "      <th>Subtitle</th>\n",
       "      <th>Acceleration</th>\n",
       "      <th>TopSpeed</th>\n",
       "      <th>Range</th>\n",
       "      <th>Efficiency</th>\n",
       "      <th>FastChargeSpeed</th>\n",
       "      <th>Drive</th>\n",
       "      <th>NumberofSeats</th>\n",
       "      <th>Pricei</th>\n",
       "      <th>Priceinindia</th>\n",
       "    </tr>\n",
       "  </thead>\n",
       "  <tbody>\n",
       "    <tr>\n",
       "      <th>0</th>\n",
       "      <td>Opel Ampera-e</td>\n",
       "      <td>Battery Electric Vehicle |       58 kWh</td>\n",
       "      <td>7.3 sec</td>\n",
       "      <td>150 km/h</td>\n",
       "      <td>335 km</td>\n",
       "      <td>173 Wh/km</td>\n",
       "      <td>210 km/h</td>\n",
       "      <td>Front Wheel Drive</td>\n",
       "      <td>5</td>\n",
       "      <td>€42,990</td>\n",
       "      <td>NaN</td>\n",
       "    </tr>\n",
       "    <tr>\n",
       "      <th>1</th>\n",
       "      <td>Renault Kangoo Maxi ZE 33</td>\n",
       "      <td>Battery Electric Vehicle |       31 kWh</td>\n",
       "      <td>22.4 sec</td>\n",
       "      <td>130 km/h</td>\n",
       "      <td>160 km</td>\n",
       "      <td>194 Wh/km</td>\n",
       "      <td>-</td>\n",
       "      <td>Front Wheel Drive</td>\n",
       "      <td>5</td>\n",
       "      <td>NaN</td>\n",
       "      <td>£31,680</td>\n",
       "    </tr>\n",
       "    <tr>\n",
       "      <th>2</th>\n",
       "      <td>Nissan Leaf</td>\n",
       "      <td>Battery Electric Vehicle |       36 kWh</td>\n",
       "      <td>7.9 sec</td>\n",
       "      <td>144 km/h</td>\n",
       "      <td>220 km</td>\n",
       "      <td>164 Wh/km</td>\n",
       "      <td>230 km/h</td>\n",
       "      <td>Front Wheel Drive</td>\n",
       "      <td>5</td>\n",
       "      <td>€29,990</td>\n",
       "      <td>£25,995</td>\n",
       "    </tr>\n",
       "    <tr>\n",
       "      <th>3</th>\n",
       "      <td>Audi e-tron Sportback 55 quattro</td>\n",
       "      <td>Battery Electric Vehicle |       86.5 kWh</td>\n",
       "      <td>5.7 sec</td>\n",
       "      <td>200 km/h</td>\n",
       "      <td>375 km</td>\n",
       "      <td>231 Wh/km</td>\n",
       "      <td>600 km/h</td>\n",
       "      <td>All Wheel Drive</td>\n",
       "      <td>5</td>\n",
       "      <td>NaN</td>\n",
       "      <td>£79,900</td>\n",
       "    </tr>\n",
       "    <tr>\n",
       "      <th>4</th>\n",
       "      <td>Porsche Taycan Turbo S</td>\n",
       "      <td>Battery Electric Vehicle |       83.7 kWh</td>\n",
       "      <td>2.8 sec</td>\n",
       "      <td>260 km/h</td>\n",
       "      <td>390 km</td>\n",
       "      <td>215 Wh/km</td>\n",
       "      <td>860 km/h</td>\n",
       "      <td>All Wheel Drive</td>\n",
       "      <td>4</td>\n",
       "      <td>€186,336</td>\n",
       "      <td>£138,830</td>\n",
       "    </tr>\n",
       "  </tbody>\n",
       "</table>\n",
       "</div>"
      ],
      "text/plain": [
       "                               Name  \\\n",
       "0                    Opel Ampera-e    \n",
       "1         Renault Kangoo Maxi ZE 33   \n",
       "2                      Nissan Leaf    \n",
       "3  Audi e-tron Sportback 55 quattro   \n",
       "4            Porsche Taycan Turbo S   \n",
       "\n",
       "                                    Subtitle Acceleration  TopSpeed   Range  \\\n",
       "0   Battery Electric Vehicle |       58 kWh       7.3 sec  150 km/h  335 km   \n",
       "1   Battery Electric Vehicle |       31 kWh      22.4 sec  130 km/h  160 km   \n",
       "2   Battery Electric Vehicle |       36 kWh       7.9 sec  144 km/h  220 km   \n",
       "3  Battery Electric Vehicle |       86.5 kWh      5.7 sec  200 km/h  375 km   \n",
       "4  Battery Electric Vehicle |       83.7 kWh      2.8 sec  260 km/h  390 km   \n",
       "\n",
       "  Efficiency FastChargeSpeed              Drive  NumberofSeats    Pricei  \\\n",
       "0  173 Wh/km        210 km/h  Front Wheel Drive              5   €42,990   \n",
       "1  194 Wh/km               -  Front Wheel Drive              5       NaN   \n",
       "2  164 Wh/km        230 km/h  Front Wheel Drive              5   €29,990   \n",
       "3  231 Wh/km        600 km/h    All Wheel Drive              5       NaN   \n",
       "4  215 Wh/km        860 km/h    All Wheel Drive              4  €186,336   \n",
       "\n",
       "  Priceinindia  \n",
       "0          NaN  \n",
       "1      £31,680  \n",
       "2      £25,995  \n",
       "3      £79,900  \n",
       "4     £138,830  "
      ]
     },
     "execution_count": 6,
     "metadata": {},
     "output_type": "execute_result"
    }
   ],
   "source": [
    "data.head()"
   ]
  },
  {
   "cell_type": "code",
   "execution_count": 8,
   "id": "96ae4845",
   "metadata": {},
   "outputs": [],
   "source": [
    "#filling empty data with 0\n",
    "data=data.fillna('0')"
   ]
  },
  {
   "cell_type": "code",
   "execution_count": 9,
   "id": "b96fc130",
   "metadata": {},
   "outputs": [],
   "source": [
    "data['Manufacturer'] = data.Name.str.split(' ', 1, expand=True)[0]"
   ]
  },
  {
   "cell_type": "code",
   "execution_count": 11,
   "id": "eb32c168",
   "metadata": {},
   "outputs": [],
   "source": [
    "#cleaning the data\n",
    "#removing currency sign\n",
    "Priceinindia=[]\n",
    "for item in data['Priceinindia']:\n",
    "    Priceinindia+=[int(item.replace('£','').replace(',',''))]\n",
    "data['Priceinindia']=Priceinindia"
   ]
  },
  {
   "cell_type": "code",
   "execution_count": 13,
   "id": "49f6acc5",
   "metadata": {},
   "outputs": [],
   "source": [
    "Pricei=[]\n",
    "for item in data['Pricei']:\n",
    "    Pricei+=[int(item.replace('€','').replace(',',''))]\n",
    "data['Pricei']=Pricei"
   ]
  },
  {
   "cell_type": "code",
   "execution_count": 16,
   "id": "23f3353a",
   "metadata": {},
   "outputs": [],
   "source": [
    "FastChargeSpeed=[]\n",
    "for item in data['FastChargeSpeed']:\n",
    "    FastChargeSpeed+=[int(item.replace(' km/h','').replace('-','0'))]\n",
    "data['FastChargeSpeed']=FastChargeSpeed"
   ]
  },
  {
   "cell_type": "code",
   "execution_count": 17,
   "id": "65097c25",
   "metadata": {},
   "outputs": [],
   "source": [
    "Efficiency=[]\n",
    "for item in data['Efficiency']:\n",
    "    Efficiency+=[int(item.replace(' Wh/km',''))]\n",
    "data['Efficiency']=Efficiency"
   ]
  },
  {
   "cell_type": "code",
   "execution_count": 18,
   "id": "b1c46b3e",
   "metadata": {},
   "outputs": [],
   "source": [
    "Range=[]\n",
    "for item in data['Range']:\n",
    "    Range+=[int(item.replace(' km',''))]\n",
    "data['Range']=Range\n",
    "TopSpeed=[]\n",
    "for item in data['TopSpeed']:\n",
    "    TopSpeed+=[int(item.replace(' km/h',''))]\n",
    "data['TopSpeed']=TopSpeed\n",
    "Acceleration=[]\n",
    "for item in data['Acceleration']:\n",
    "    Acceleration+=[float(item.replace(' sec',''))]\n",
    "data['Acceleration']=Acceleration\n",
    "Subtitle=[]\n",
    "for item in data['Subtitle']:\n",
    "    Subtitle+=[float(item.replace('Battery Electric Vehicle | ','').replace(' kWh','').replace('      ',''))]\n",
    "data['Subtitle']=Subtitle"
   ]
  },
  {
   "cell_type": "code",
   "execution_count": 19,
   "id": "166cd1b1",
   "metadata": {},
   "outputs": [
    {
     "data": {
      "text/html": [
       "<div>\n",
       "<style scoped>\n",
       "    .dataframe tbody tr th:only-of-type {\n",
       "        vertical-align: middle;\n",
       "    }\n",
       "\n",
       "    .dataframe tbody tr th {\n",
       "        vertical-align: top;\n",
       "    }\n",
       "\n",
       "    .dataframe thead th {\n",
       "        text-align: right;\n",
       "    }\n",
       "</style>\n",
       "<table border=\"1\" class=\"dataframe\">\n",
       "  <thead>\n",
       "    <tr style=\"text-align: right;\">\n",
       "      <th></th>\n",
       "      <th>Name</th>\n",
       "      <th>Subtitle</th>\n",
       "      <th>Acceleration</th>\n",
       "      <th>TopSpeed</th>\n",
       "      <th>Range</th>\n",
       "      <th>Efficiency</th>\n",
       "      <th>FastChargeSpeed</th>\n",
       "      <th>Drive</th>\n",
       "      <th>NumberofSeats</th>\n",
       "      <th>Pricei</th>\n",
       "      <th>Priceinindia</th>\n",
       "      <th>Manufacturer</th>\n",
       "    </tr>\n",
       "  </thead>\n",
       "  <tbody>\n",
       "    <tr>\n",
       "      <th>0</th>\n",
       "      <td>Opel Ampera-e</td>\n",
       "      <td>58.0</td>\n",
       "      <td>7.3</td>\n",
       "      <td>150</td>\n",
       "      <td>335</td>\n",
       "      <td>173</td>\n",
       "      <td>210</td>\n",
       "      <td>Front Wheel Drive</td>\n",
       "      <td>5</td>\n",
       "      <td>42990</td>\n",
       "      <td>0</td>\n",
       "      <td>Opel</td>\n",
       "    </tr>\n",
       "    <tr>\n",
       "      <th>1</th>\n",
       "      <td>Renault Kangoo Maxi ZE 33</td>\n",
       "      <td>31.0</td>\n",
       "      <td>22.4</td>\n",
       "      <td>130</td>\n",
       "      <td>160</td>\n",
       "      <td>194</td>\n",
       "      <td>0</td>\n",
       "      <td>Front Wheel Drive</td>\n",
       "      <td>5</td>\n",
       "      <td>0</td>\n",
       "      <td>31680</td>\n",
       "      <td>Renault</td>\n",
       "    </tr>\n",
       "    <tr>\n",
       "      <th>2</th>\n",
       "      <td>Nissan Leaf</td>\n",
       "      <td>36.0</td>\n",
       "      <td>7.9</td>\n",
       "      <td>144</td>\n",
       "      <td>220</td>\n",
       "      <td>164</td>\n",
       "      <td>230</td>\n",
       "      <td>Front Wheel Drive</td>\n",
       "      <td>5</td>\n",
       "      <td>29990</td>\n",
       "      <td>25995</td>\n",
       "      <td>Nissan</td>\n",
       "    </tr>\n",
       "    <tr>\n",
       "      <th>3</th>\n",
       "      <td>Audi e-tron Sportback 55 quattro</td>\n",
       "      <td>86.5</td>\n",
       "      <td>5.7</td>\n",
       "      <td>200</td>\n",
       "      <td>375</td>\n",
       "      <td>231</td>\n",
       "      <td>600</td>\n",
       "      <td>All Wheel Drive</td>\n",
       "      <td>5</td>\n",
       "      <td>0</td>\n",
       "      <td>79900</td>\n",
       "      <td>Audi</td>\n",
       "    </tr>\n",
       "    <tr>\n",
       "      <th>4</th>\n",
       "      <td>Porsche Taycan Turbo S</td>\n",
       "      <td>83.7</td>\n",
       "      <td>2.8</td>\n",
       "      <td>260</td>\n",
       "      <td>390</td>\n",
       "      <td>215</td>\n",
       "      <td>860</td>\n",
       "      <td>All Wheel Drive</td>\n",
       "      <td>4</td>\n",
       "      <td>186336</td>\n",
       "      <td>138830</td>\n",
       "      <td>Porsche</td>\n",
       "    </tr>\n",
       "  </tbody>\n",
       "</table>\n",
       "</div>"
      ],
      "text/plain": [
       "                               Name  Subtitle  Acceleration  TopSpeed  Range  \\\n",
       "0                    Opel Ampera-e       58.0           7.3       150    335   \n",
       "1         Renault Kangoo Maxi ZE 33      31.0          22.4       130    160   \n",
       "2                      Nissan Leaf       36.0           7.9       144    220   \n",
       "3  Audi e-tron Sportback 55 quattro      86.5           5.7       200    375   \n",
       "4            Porsche Taycan Turbo S      83.7           2.8       260    390   \n",
       "\n",
       "   Efficiency  FastChargeSpeed              Drive  NumberofSeats  Pricei  \\\n",
       "0         173              210  Front Wheel Drive              5   42990   \n",
       "1         194                0  Front Wheel Drive              5       0   \n",
       "2         164              230  Front Wheel Drive              5   29990   \n",
       "3         231              600    All Wheel Drive              5       0   \n",
       "4         215              860    All Wheel Drive              4  186336   \n",
       "\n",
       "   Priceinindia Manufacturer  \n",
       "0             0         Opel  \n",
       "1         31680      Renault  \n",
       "2         25995       Nissan  \n",
       "3         79900         Audi  \n",
       "4        138830      Porsche  "
      ]
     },
     "execution_count": 19,
     "metadata": {},
     "output_type": "execute_result"
    }
   ],
   "source": [
    "data.head()"
   ]
  },
  {
   "cell_type": "code",
   "execution_count": 20,
   "id": "acd65042",
   "metadata": {},
   "outputs": [
    {
     "name": "stdout",
     "output_type": "stream",
     "text": [
      "<class 'pandas.core.frame.DataFrame'>\n",
      "RangeIndex: 180 entries, 0 to 179\n",
      "Data columns (total 12 columns):\n",
      " #   Column           Non-Null Count  Dtype  \n",
      "---  ------           --------------  -----  \n",
      " 0   Name             180 non-null    object \n",
      " 1   Subtitle         180 non-null    float64\n",
      " 2   Acceleration     180 non-null    float64\n",
      " 3   TopSpeed         180 non-null    int64  \n",
      " 4   Range            180 non-null    int64  \n",
      " 5   Efficiency       180 non-null    int64  \n",
      " 6   FastChargeSpeed  180 non-null    int64  \n",
      " 7   Drive            180 non-null    object \n",
      " 8   NumberofSeats    180 non-null    int64  \n",
      " 9   Pricei           180 non-null    int64  \n",
      " 10  Priceinindia     180 non-null    int64  \n",
      " 11  Manufacturer     180 non-null    object \n",
      "dtypes: float64(2), int64(7), object(3)\n",
      "memory usage: 17.0+ KB\n"
     ]
    }
   ],
   "source": [
    "data.info()"
   ]
  },
  {
   "cell_type": "code",
   "execution_count": 21,
   "id": "17db7803",
   "metadata": {},
   "outputs": [
    {
     "data": {
      "text/html": [
       "<div>\n",
       "<style scoped>\n",
       "    .dataframe tbody tr th:only-of-type {\n",
       "        vertical-align: middle;\n",
       "    }\n",
       "\n",
       "    .dataframe tbody tr th {\n",
       "        vertical-align: top;\n",
       "    }\n",
       "\n",
       "    .dataframe thead th {\n",
       "        text-align: right;\n",
       "    }\n",
       "</style>\n",
       "<table border=\"1\" class=\"dataframe\">\n",
       "  <thead>\n",
       "    <tr style=\"text-align: right;\">\n",
       "      <th></th>\n",
       "      <th>Subtitle</th>\n",
       "      <th>Acceleration</th>\n",
       "      <th>TopSpeed</th>\n",
       "      <th>Range</th>\n",
       "      <th>Efficiency</th>\n",
       "      <th>FastChargeSpeed</th>\n",
       "      <th>NumberofSeats</th>\n",
       "      <th>Pricei</th>\n",
       "      <th>Priceinindia</th>\n",
       "    </tr>\n",
       "  </thead>\n",
       "  <tbody>\n",
       "    <tr>\n",
       "      <th>Subtitle</th>\n",
       "      <td>1.000000</td>\n",
       "      <td>-0.622985</td>\n",
       "      <td>0.691415</td>\n",
       "      <td>0.890092</td>\n",
       "      <td>0.356426</td>\n",
       "      <td>0.659743</td>\n",
       "      <td>0.134447</td>\n",
       "      <td>0.598084</td>\n",
       "      <td>0.621253</td>\n",
       "    </tr>\n",
       "    <tr>\n",
       "      <th>Acceleration</th>\n",
       "      <td>-0.622985</td>\n",
       "      <td>1.000000</td>\n",
       "      <td>-0.821041</td>\n",
       "      <td>-0.712077</td>\n",
       "      <td>0.140984</td>\n",
       "      <td>-0.741670</td>\n",
       "      <td>0.318302</td>\n",
       "      <td>-0.501519</td>\n",
       "      <td>-0.674273</td>\n",
       "    </tr>\n",
       "    <tr>\n",
       "      <th>TopSpeed</th>\n",
       "      <td>0.691415</td>\n",
       "      <td>-0.821041</td>\n",
       "      <td>1.000000</td>\n",
       "      <td>0.760319</td>\n",
       "      <td>-0.047383</td>\n",
       "      <td>0.773190</td>\n",
       "      <td>-0.242567</td>\n",
       "      <td>0.678865</td>\n",
       "      <td>0.792669</td>\n",
       "    </tr>\n",
       "    <tr>\n",
       "      <th>Range</th>\n",
       "      <td>0.890092</td>\n",
       "      <td>-0.712077</td>\n",
       "      <td>0.760319</td>\n",
       "      <td>1.000000</td>\n",
       "      <td>-0.072273</td>\n",
       "      <td>0.767574</td>\n",
       "      <td>-0.068851</td>\n",
       "      <td>0.569037</td>\n",
       "      <td>0.620757</td>\n",
       "    </tr>\n",
       "    <tr>\n",
       "      <th>Efficiency</th>\n",
       "      <td>0.356426</td>\n",
       "      <td>0.140984</td>\n",
       "      <td>-0.047383</td>\n",
       "      <td>-0.072273</td>\n",
       "      <td>1.000000</td>\n",
       "      <td>-0.059914</td>\n",
       "      <td>0.602469</td>\n",
       "      <td>0.239221</td>\n",
       "      <td>0.084527</td>\n",
       "    </tr>\n",
       "    <tr>\n",
       "      <th>FastChargeSpeed</th>\n",
       "      <td>0.659743</td>\n",
       "      <td>-0.741670</td>\n",
       "      <td>0.773190</td>\n",
       "      <td>0.767574</td>\n",
       "      <td>-0.059914</td>\n",
       "      <td>1.000000</td>\n",
       "      <td>-0.119644</td>\n",
       "      <td>0.595609</td>\n",
       "      <td>0.650851</td>\n",
       "    </tr>\n",
       "    <tr>\n",
       "      <th>NumberofSeats</th>\n",
       "      <td>0.134447</td>\n",
       "      <td>0.318302</td>\n",
       "      <td>-0.242567</td>\n",
       "      <td>-0.068851</td>\n",
       "      <td>0.602469</td>\n",
       "      <td>-0.119644</td>\n",
       "      <td>1.000000</td>\n",
       "      <td>-0.012455</td>\n",
       "      <td>-0.211985</td>\n",
       "    </tr>\n",
       "    <tr>\n",
       "      <th>Pricei</th>\n",
       "      <td>0.598084</td>\n",
       "      <td>-0.501519</td>\n",
       "      <td>0.678865</td>\n",
       "      <td>0.569037</td>\n",
       "      <td>0.239221</td>\n",
       "      <td>0.595609</td>\n",
       "      <td>-0.012455</td>\n",
       "      <td>1.000000</td>\n",
       "      <td>0.698753</td>\n",
       "    </tr>\n",
       "    <tr>\n",
       "      <th>Priceinindia</th>\n",
       "      <td>0.621253</td>\n",
       "      <td>-0.674273</td>\n",
       "      <td>0.792669</td>\n",
       "      <td>0.620757</td>\n",
       "      <td>0.084527</td>\n",
       "      <td>0.650851</td>\n",
       "      <td>-0.211985</td>\n",
       "      <td>0.698753</td>\n",
       "      <td>1.000000</td>\n",
       "    </tr>\n",
       "  </tbody>\n",
       "</table>\n",
       "</div>"
      ],
      "text/plain": [
       "                 Subtitle  Acceleration  TopSpeed     Range  Efficiency  \\\n",
       "Subtitle         1.000000     -0.622985  0.691415  0.890092    0.356426   \n",
       "Acceleration    -0.622985      1.000000 -0.821041 -0.712077    0.140984   \n",
       "TopSpeed         0.691415     -0.821041  1.000000  0.760319   -0.047383   \n",
       "Range            0.890092     -0.712077  0.760319  1.000000   -0.072273   \n",
       "Efficiency       0.356426      0.140984 -0.047383 -0.072273    1.000000   \n",
       "FastChargeSpeed  0.659743     -0.741670  0.773190  0.767574   -0.059914   \n",
       "NumberofSeats    0.134447      0.318302 -0.242567 -0.068851    0.602469   \n",
       "Pricei           0.598084     -0.501519  0.678865  0.569037    0.239221   \n",
       "Priceinindia     0.621253     -0.674273  0.792669  0.620757    0.084527   \n",
       "\n",
       "                 FastChargeSpeed  NumberofSeats    Pricei  Priceinindia  \n",
       "Subtitle                0.659743       0.134447  0.598084      0.621253  \n",
       "Acceleration           -0.741670       0.318302 -0.501519     -0.674273  \n",
       "TopSpeed                0.773190      -0.242567  0.678865      0.792669  \n",
       "Range                   0.767574      -0.068851  0.569037      0.620757  \n",
       "Efficiency             -0.059914       0.602469  0.239221      0.084527  \n",
       "FastChargeSpeed         1.000000      -0.119644  0.595609      0.650851  \n",
       "NumberofSeats          -0.119644       1.000000 -0.012455     -0.211985  \n",
       "Pricei                  0.595609      -0.012455  1.000000      0.698753  \n",
       "Priceinindia            0.650851      -0.211985  0.698753      1.000000  "
      ]
     },
     "execution_count": 21,
     "metadata": {},
     "output_type": "execute_result"
    }
   ],
   "source": [
    "data.corr()"
   ]
  },
  {
   "cell_type": "code",
   "execution_count": 22,
   "id": "130ef8ba",
   "metadata": {},
   "outputs": [
    {
     "data": {
      "text/plain": [
       "<AxesSubplot:>"
      ]
     },
     "execution_count": 22,
     "metadata": {},
     "output_type": "execute_result"
    },
    {
     "data": {
      "image/png": "[encoded data removed]",
      "text/plain": [
       "<Figure size 576x432 with 2 Axes>"
      ]
     },
     "metadata": {
      "needs_background": "light"
     },
     "output_type": "display_data"
    }
   ],
   "source": [
    "plt.figure(figsize=(8,6))\n",
    "sns.heatmap(data.corr(), annot=True)"
   ]
  },
  {
   "cell_type": "code",
   "execution_count": 23,
   "id": "bb1f2441",
   "metadata": {},
   "outputs": [
    {
     "data": {
      "text/plain": [
       "<AxesSubplot:xlabel='Drive', ylabel='count'>"
      ]
     },
     "execution_count": 23,
     "metadata": {},
     "output_type": "execute_result"
    },
    {
     "data": {
      "image/png": "[encoded data removed]",
      "text/plain": [
       "<Figure size 432x288 with 1 Axes>"
      ]
     },
     "metadata": {
      "needs_background": "light"
     },
     "output_type": "display_data"
    }
   ],
   "source": [
    "sns.countplot(x = 'Drive', data = data)"
   ]
  },
  {
   "cell_type": "code",
   "execution_count": 24,
   "id": "ed400fd2",
   "metadata": {},
   "outputs": [
    {
     "data": {
      "text/plain": [
       "<AxesSubplot:xlabel='NumberofSeats', ylabel='count'>"
      ]
     },
     "execution_count": 24,
     "metadata": {},
     "output_type": "execute_result"
    },
    {
     "data": {
      "image/png": "[encoded data removed]",
      "text/plain": [
       "<Figure size 432x288 with 1 Axes>"
      ]
     },
     "metadata": {
      "needs_background": "light"
     },
     "output_type": "display_data"
    }
   ],
   "source": [
    "sns.countplot(x = 'NumberofSeats', data = data)"
   ]
  },
  {
   "cell_type": "code",
   "execution_count": 25,
   "id": "0c4e57cd",
   "metadata": {},
   "outputs": [
    {
     "data": {
      "text/plain": [
       "<AxesSubplot:xlabel='NumberofSeats', ylabel='count'>"
      ]
     },
     "execution_count": 25,
     "metadata": {},
     "output_type": "execute_result"
    },
    {
     "data": {
      "image/png": "[encoded data removed]",
      "text/plain": [
       "<Figure size 576x432 with 1 Axes>"
      ]
     },
     "metadata": {
      "needs_background": "light"
     },
     "output_type": "display_data"
    }
   ],
   "source": [
    "plt.figure(figsize=(8,6))\n",
    "sns.countplot(x = 'NumberofSeats', hue='Drive', data=data)"
   ]
  },
  {
   "cell_type": "code",
   "execution_count": 26,
   "id": "3c15b0d8",
   "metadata": {},
   "outputs": [
    {
     "data": {
      "text/plain": [
       "<AxesSubplot:xlabel='count', ylabel='Manufacturer'>"
      ]
     },
     "execution_count": 26,
     "metadata": {},
     "output_type": "execute_result"
    },
    {
     "data": {
      "image/png": "[encoded data removed]",
      "text/plain": [
       "<Figure size 1296x720 with 1 Axes>"
      ]
     },
     "metadata": {
      "needs_background": "light"
     },
     "output_type": "display_data"
    }
   ],
   "source": [
    "plt.figure(figsize=(18,10))\n",
    "sns.countplot(y = 'Manufacturer', data = data)"
   ]
  },
  {
   "cell_type": "code",
   "execution_count": 28,
   "id": "bb09aff3",
   "metadata": {},
   "outputs": [
    {
     "ename": "SyntaxError",
     "evalue": "unexpected EOF while parsing (3377016960.py, line 1)",
     "output_type": "error",
     "traceback": [
      "\u001b[1;36m  Input \u001b[1;32mIn [28]\u001b[1;36m\u001b[0m\n\u001b[1;33m    sns.relplot(x=\"KWH\", y=\"Acceleration\", height=6,hue=\"Drive\",data=data1\u001b[0m\n\u001b[1;37m                                                                          ^\u001b[0m\n\u001b[1;31mSyntaxError\u001b[0m\u001b[1;31m:\u001b[0m unexpected EOF while parsing\n"
     ]
    }
   ],
   "source": []
  },
  {
   "cell_type": "code",
   "execution_count": 32,
   "id": "7a9a737f",
   "metadata": {},
   "outputs": [
    {
     "data": {
      "text/plain": [
       "<seaborn.axisgrid.FacetGrid at 0x206814428b0>"
      ]
     },
     "execution_count": 32,
     "metadata": {},
     "output_type": "execute_result"
    },
    {
     "data": {
      "image/png": "[encoded data removed]",
      "text/plain": [
       "<Figure size 557.5x432 with 1 Axes>"
      ]
     },
     "metadata": {
      "needs_background": "light"
     },
     "output_type": "display_data"
    }
   ],
   "source": [
    "sns.relplot(x=\"TopSpeed\", y=\"Range\",height=6, hue=\"Drive\",data=data)\n"
   ]
  },
  {
   "cell_type": "code",
   "execution_count": 35,
   "id": "39446fc9",
   "metadata": {},
   "outputs": [
    {
     "ename": "KeyError",
     "evalue": "'KWH'",
     "output_type": "error",
     "traceback": [
      "\u001b[1;31m---------------------------------------------------------------------------\u001b[0m",
      "\u001b[1;31mKeyError\u001b[0m                                  Traceback (most recent call last)",
      "File \u001b[1;32m~\\anaconda3\\lib\\site-packages\\pandas\\core\\indexes\\base.py:3621\u001b[0m, in \u001b[0;36mIndex.get_loc\u001b[1;34m(self, key, method, tolerance)\u001b[0m\n\u001b[0;32m   3620\u001b[0m \u001b[38;5;28;01mtry\u001b[39;00m:\n\u001b[1;32m-> 3621\u001b[0m     \u001b[38;5;28;01mreturn\u001b[39;00m \u001b[38;5;28;43mself\u001b[39;49m\u001b[38;5;241;43m.\u001b[39;49m\u001b[43m_engine\u001b[49m\u001b[38;5;241;43m.\u001b[39;49m\u001b[43mget_loc\u001b[49m\u001b[43m(\u001b[49m\u001b[43mcasted_key\u001b[49m\u001b[43m)\u001b[49m\n\u001b[0;32m   3622\u001b[0m \u001b[38;5;28;01mexcept\u001b[39;00m \u001b[38;5;167;01mKeyError\u001b[39;00m \u001b[38;5;28;01mas\u001b[39;00m err:\n",
      "File \u001b[1;32m~\\anaconda3\\lib\\site-packages\\pandas\\_libs\\index.pyx:136\u001b[0m, in \u001b[0;36mpandas._libs.index.IndexEngine.get_loc\u001b[1;34m()\u001b[0m\n",
      "File \u001b[1;32m~\\anaconda3\\lib\\site-packages\\pandas\\_libs\\index.pyx:163\u001b[0m, in \u001b[0;36mpandas._libs.index.IndexEngine.get_loc\u001b[1;34m()\u001b[0m\n",
      "File \u001b[1;32mpandas\\_libs\\hashtable_class_helper.pxi:5198\u001b[0m, in \u001b[0;36mpandas._libs.hashtable.PyObjectHashTable.get_item\u001b[1;34m()\u001b[0m\n",
      "File \u001b[1;32mpandas\\_libs\\hashtable_class_helper.pxi:5206\u001b[0m, in \u001b[0;36mpandas._libs.hashtable.PyObjectHashTable.get_item\u001b[1;34m()\u001b[0m\n",
      "\u001b[1;31mKeyError\u001b[0m: 'KWH'",
      "\nThe above exception was the direct cause of the following exception:\n",
      "\u001b[1;31mKeyError\u001b[0m                                  Traceback (most recent call last)",
      "Input \u001b[1;32mIn [35]\u001b[0m, in \u001b[0;36m<cell line: 1>\u001b[1;34m()\u001b[0m\n\u001b[1;32m----> 1\u001b[0m sns\u001b[38;5;241m.\u001b[39mjointplot(x\u001b[38;5;241m=\u001b[39m\u001b[43mdata\u001b[49m\u001b[43m[\u001b[49m\u001b[38;5;124;43m\"\u001b[39;49m\u001b[38;5;124;43mKWH\u001b[39;49m\u001b[38;5;124;43m\"\u001b[39;49m\u001b[43m]\u001b[49m, y\u001b[38;5;241m=\u001b[39mdata[\u001b[38;5;124m\"\u001b[39m\u001b[38;5;124mRange\u001b[39m\u001b[38;5;124m\"\u001b[39m], kind\u001b[38;5;241m=\u001b[39m\u001b[38;5;124m\"\u001b[39m\u001b[38;5;124mhex\u001b[39m\u001b[38;5;124m\"\u001b[39m, color\u001b[38;5;241m=\u001b[39m\u001b[38;5;124m\"\u001b[39m\u001b[38;5;124m#4CB391\u001b[39m\u001b[38;5;124m\"\u001b[39m)\n",
      "File \u001b[1;32m~\\anaconda3\\lib\\site-packages\\pandas\\core\\frame.py:3505\u001b[0m, in \u001b[0;36mDataFrame.__getitem__\u001b[1;34m(self, key)\u001b[0m\n\u001b[0;32m   3503\u001b[0m \u001b[38;5;28;01mif\u001b[39;00m \u001b[38;5;28mself\u001b[39m\u001b[38;5;241m.\u001b[39mcolumns\u001b[38;5;241m.\u001b[39mnlevels \u001b[38;5;241m>\u001b[39m \u001b[38;5;241m1\u001b[39m:\n\u001b[0;32m   3504\u001b[0m     \u001b[38;5;28;01mreturn\u001b[39;00m \u001b[38;5;28mself\u001b[39m\u001b[38;5;241m.\u001b[39m_getitem_multilevel(key)\n\u001b[1;32m-> 3505\u001b[0m indexer \u001b[38;5;241m=\u001b[39m \u001b[38;5;28;43mself\u001b[39;49m\u001b[38;5;241;43m.\u001b[39;49m\u001b[43mcolumns\u001b[49m\u001b[38;5;241;43m.\u001b[39;49m\u001b[43mget_loc\u001b[49m\u001b[43m(\u001b[49m\u001b[43mkey\u001b[49m\u001b[43m)\u001b[49m\n\u001b[0;32m   3506\u001b[0m \u001b[38;5;28;01mif\u001b[39;00m is_integer(indexer):\n\u001b[0;32m   3507\u001b[0m     indexer \u001b[38;5;241m=\u001b[39m [indexer]\n",
      "File \u001b[1;32m~\\anaconda3\\lib\\site-packages\\pandas\\core\\indexes\\base.py:3623\u001b[0m, in \u001b[0;36mIndex.get_loc\u001b[1;34m(self, key, method, tolerance)\u001b[0m\n\u001b[0;32m   3621\u001b[0m     \u001b[38;5;28;01mreturn\u001b[39;00m \u001b[38;5;28mself\u001b[39m\u001b[38;5;241m.\u001b[39m_engine\u001b[38;5;241m.\u001b[39mget_loc(casted_key)\n\u001b[0;32m   3622\u001b[0m \u001b[38;5;28;01mexcept\u001b[39;00m \u001b[38;5;167;01mKeyError\u001b[39;00m \u001b[38;5;28;01mas\u001b[39;00m err:\n\u001b[1;32m-> 3623\u001b[0m     \u001b[38;5;28;01mraise\u001b[39;00m \u001b[38;5;167;01mKeyError\u001b[39;00m(key) \u001b[38;5;28;01mfrom\u001b[39;00m \u001b[38;5;21;01merr\u001b[39;00m\n\u001b[0;32m   3624\u001b[0m \u001b[38;5;28;01mexcept\u001b[39;00m \u001b[38;5;167;01mTypeError\u001b[39;00m:\n\u001b[0;32m   3625\u001b[0m     \u001b[38;5;66;03m# If we have a listlike key, _check_indexing_error will raise\u001b[39;00m\n\u001b[0;32m   3626\u001b[0m     \u001b[38;5;66;03m#  InvalidIndexError. Otherwise we fall through and re-raise\u001b[39;00m\n\u001b[0;32m   3627\u001b[0m     \u001b[38;5;66;03m#  the TypeError.\u001b[39;00m\n\u001b[0;32m   3628\u001b[0m     \u001b[38;5;28mself\u001b[39m\u001b[38;5;241m.\u001b[39m_check_indexing_error(key)\n",
      "\u001b[1;31mKeyError\u001b[0m: 'KWH'"
     ]
    }
   ],
   "source": [
    "sns.jointplot(x=data[\"KWH\"], y=data[\"Range\"], kind=\"hex\", color=\"#4CB391\")"
   ]
  },
  {
   "cell_type": "code",
   "execution_count": 36,
   "id": "3a7ad0bf",
   "metadata": {},
   "outputs": [
    {
     "data": {
      "text/plain": [
       "<seaborn.axisgrid.FacetGrid at 0x20684c8bc40>"
      ]
     },
     "execution_count": 36,
     "metadata": {},
     "output_type": "execute_result"
    },
    {
     "data": {
      "image/png": "[encoded data removed]",
      "text/plain": [
       "<Figure size 432x432 with 1 Axes>"
      ]
     },
     "metadata": {
      "needs_background": "light"
     },
     "output_type": "display_data"
    }
   ],
   "source": [
    "sns.relplot(x=\"FastChargeSpeed\", y=\"Efficiency\", height=6,data=data)"
   ]
  },
  {
   "cell_type": "code",
   "execution_count": 38,
   "id": "38c7417f",
   "metadata": {},
   "outputs": [
    {
     "name": "stdout",
     "output_type": "stream",
     "text": [
      "Empty Values: 44\n"
     ]
    }
   ],
   "source": [
    "c=0\n",
    "for i in range(0, len(data[\"Priceinindia\"])):\n",
    "    if (data[\"Priceinindia\"][i]==0):\n",
    "        c+=1\n",
    "print('Empty Values:',c)"
   ]
  },
  {
   "cell_type": "code",
   "execution_count": 39,
   "id": "d6448dde",
   "metadata": {},
   "outputs": [
    {
     "name": "stderr",
     "output_type": "stream",
     "text": [
      "C:\\Users\\shrey\\AppData\\Local\\Temp\\ipykernel_16208\\894337202.py:4: SettingWithCopyWarning: \n",
      "A value is trying to be set on a copy of a slice from a DataFrame\n",
      "\n",
      "See the caveats in the documentation: https://pandas.pydata.org/pandas-docs/stable/user_guide/indexing.html#returning-a-view-versus-a-copy\n",
      "  data[\"Priceinindia\"][i]=val\n"
     ]
    }
   ],
   "source": [
    "for i in range(0, len(data[\"Priceinindia\"])):\n",
    "    if (data[\"Priceinindia\"][i]==0):\n",
    "        val=data[\"Pricei\"][i]*0.85\n",
    "        data[\"Priceinindia\"][i]=val"
   ]
  },
  {
   "cell_type": "code",
   "execution_count": 43,
   "id": "e18af521",
   "metadata": {},
   "outputs": [],
   "source": [
    "pd.options.mode.chained_assignment = None"
   ]
  },
  {
   "cell_type": "code",
   "execution_count": 45,
   "id": "3ea62ca4",
   "metadata": {},
   "outputs": [
    {
     "name": "stdout",
     "output_type": "stream",
     "text": [
      "Collecting category_encoders\n",
      "  Downloading category_encoders-2.6.3-py2.py3-none-any.whl (81 kB)\n",
      "Requirement already satisfied: scipy>=1.0.0 in c:\\users\\shrey\\anaconda3\\lib\\site-packages (from category_encoders) (1.7.3)\n",
      "Requirement already satisfied: statsmodels>=0.9.0 in c:\\users\\shrey\\anaconda3\\lib\\site-packages (from category_encoders) (0.13.2)\n",
      "Requirement already satisfied: scikit-learn>=0.20.0 in c:\\users\\shrey\\anaconda3\\lib\\site-packages (from category_encoders) (1.0.2)\n",
      "Requirement already satisfied: numpy>=1.14.0 in c:\\users\\shrey\\anaconda3\\lib\\site-packages (from category_encoders) (1.21.5)\n",
      "Requirement already satisfied: pandas>=1.0.5 in c:\\users\\shrey\\anaconda3\\lib\\site-packages (from category_encoders) (1.4.2)\n",
      "Requirement already satisfied: patsy>=0.5.1 in c:\\users\\shrey\\anaconda3\\lib\\site-packages (from category_encoders) (0.5.2)\n",
      "Requirement already satisfied: python-dateutil>=2.8.1 in c:\\users\\shrey\\anaconda3\\lib\\site-packages (from pandas>=1.0.5->category_encoders) (2.8.2)\n",
      "Requirement already satisfied: pytz>=2020.1 in c:\\users\\shrey\\anaconda3\\lib\\site-packages (from pandas>=1.0.5->category_encoders) (2021.3)\n",
      "Requirement already satisfied: six in c:\\users\\shrey\\anaconda3\\lib\\site-packages (from patsy>=0.5.1->category_encoders) (1.16.0)\n",
      "Requirement already satisfied: joblib>=0.11 in c:\\users\\shrey\\anaconda3\\lib\\site-packages (from scikit-learn>=0.20.0->category_encoders) (1.1.0)\n",
      "Requirement already satisfied: threadpoolctl>=2.0.0 in c:\\users\\shrey\\anaconda3\\lib\\site-packages (from scikit-learn>=0.20.0->category_encoders) (2.2.0)\n",
      "Requirement already satisfied: packaging>=21.3 in c:\\users\\shrey\\anaconda3\\lib\\site-packages (from statsmodels>=0.9.0->category_encoders) (21.3)\n",
      "Requirement already satisfied: pyparsing!=3.0.5,>=2.0.2 in c:\\users\\shrey\\anaconda3\\lib\\site-packages (from packaging>=21.3->statsmodels>=0.9.0->category_encoders) (3.0.4)\n",
      "Installing collected packages: category-encoders\n",
      "Successfully installed category-encoders-2.6.3\n",
      "Note: you may need to restart the kernel to use updated packages.\n"
     ]
    }
   ],
   "source": [
    "pip install category_encoders\n"
   ]
  },
  {
   "cell_type": "code",
   "execution_count": 46,
   "id": "5330b3de",
   "metadata": {},
   "outputs": [],
   "source": [
    "import category_encoders as ce\n",
    "train_df=data\n",
    "# create object of Ordinalencoding\n",
    "encoder= ce.OrdinalEncoder(cols=['Drive'],return_df=True,\n",
    "                           mapping=[{'col':'Drive',\n",
    "'mapping':{'Front Wheel Drive':1,'Rear Wheel Drive':2,'All Wheel Drive':3}}])\n",
    "#fit and transform train data \n",
    "df_train = encoder.fit_transform(train_df)#Original data"
   ]
  },
  {
   "cell_type": "code",
   "execution_count": 48,
   "id": "74740631",
   "metadata": {},
   "outputs": [],
   "source": [
    "import category_encoders as ce\n",
    "train_df=data\n",
    "# create object of Ordinalencoding\n",
    "encoder= ce.OrdinalEncoder(cols=['Drive'],return_df=True,\n",
    "                           mapping=[{'col':'Drive',\n",
    "'mapping':{'Front Wheel Drive':1,'Rear Wheel Drive':2,'All Wheel Drive':3}}])\n",
    "#fit and transform train data \n",
    "df_train = encoder.fit_transform(train_df)#Original data"
   ]
  },
  {
   "cell_type": "code",
   "execution_count": 49,
   "id": "63660caa",
   "metadata": {},
   "outputs": [
    {
     "name": "stdout",
     "output_type": "stream",
     "text": [
      "<class 'pandas.core.frame.DataFrame'>\n",
      "RangeIndex: 180 entries, 0 to 179\n",
      "Data columns (total 12 columns):\n",
      " #   Column           Non-Null Count  Dtype  \n",
      "---  ------           --------------  -----  \n",
      " 0   Name             180 non-null    object \n",
      " 1   Subtitle         180 non-null    float64\n",
      " 2   Acceleration     180 non-null    float64\n",
      " 3   TopSpeed         180 non-null    int64  \n",
      " 4   Range            180 non-null    int64  \n",
      " 5   Efficiency       180 non-null    int64  \n",
      " 6   FastChargeSpeed  180 non-null    int64  \n",
      " 7   Drive            180 non-null    int32  \n",
      " 8   NumberofSeats    180 non-null    int64  \n",
      " 9   Pricei           180 non-null    int64  \n",
      " 10  Priceinindia     180 non-null    float64\n",
      " 11  Manufacturer     180 non-null    object \n",
      "dtypes: float64(3), int32(1), int64(6), object(2)\n",
      "memory usage: 16.3+ KB\n"
     ]
    }
   ],
   "source": [
    "df_train.info()"
   ]
  },
  {
   "cell_type": "code",
   "execution_count": 51,
   "id": "a9ba2d87",
   "metadata": {},
   "outputs": [],
   "source": [
    "X= df_train.drop(['Name', 'Pricei','Priceinindia','Manufacturer'], axis=1)\n",
    "X=X.values"
   ]
  },
  {
   "cell_type": "code",
   "execution_count": 52,
   "id": "4ad6a78d",
   "metadata": {},
   "outputs": [
    {
     "data": {
      "text/plain": [
       "array([[ 58. ,   7.3, 150. , ..., 210. ,   1. ,   5. ],\n",
       "       [ 31. ,  22.4, 130. , ...,   0. ,   1. ,   5. ],\n",
       "       [ 36. ,   7.9, 144. , ..., 230. ,   1. ,   5. ],\n",
       "       ...,\n",
       "       [ 57. ,   7.7, 185. , ..., 340. ,   1. ,   5. ],\n",
       "       [ 76.6,   6.9, 180. , ..., 470. ,   3. ,   5. ],\n",
       "       [ 76.6,   8.5, 160. , ..., 520. ,   2. ,   5. ]])"
      ]
     },
     "execution_count": 52,
     "metadata": {},
     "output_type": "execute_result"
    }
   ],
   "source": [
    "X"
   ]
  },
  {
   "cell_type": "code",
   "execution_count": 53,
   "id": "b429f2d5",
   "metadata": {},
   "outputs": [],
   "source": [
    "y=df_train['Priceinindia'].values"
   ]
  },
  {
   "cell_type": "code",
   "execution_count": 54,
   "id": "9436ca83",
   "metadata": {},
   "outputs": [
    {
     "data": {
      "text/plain": [
       "(180, 8)"
      ]
     },
     "execution_count": 54,
     "metadata": {},
     "output_type": "execute_result"
    }
   ],
   "source": [
    "X.shape"
   ]
  },
  {
   "cell_type": "code",
   "execution_count": 55,
   "id": "6ef8f75d",
   "metadata": {},
   "outputs": [
    {
     "data": {
      "text/plain": [
       "(180,)"
      ]
     },
     "execution_count": 55,
     "metadata": {},
     "output_type": "execute_result"
    }
   ],
   "source": [
    "y.shape"
   ]
  },
  {
   "cell_type": "code",
   "execution_count": 56,
   "id": "659bcb24",
   "metadata": {},
   "outputs": [],
   "source": [
    "from sklearn.model_selection import train_test_split\n",
    "X_train, X_test, y_train, y_test = train_test_split(X, y, test_size=0.33, random_state=7)"
   ]
  },
  {
   "cell_type": "code",
   "execution_count": 57,
   "id": "5c286ce9",
   "metadata": {},
   "outputs": [
    {
     "data": {
      "text/plain": [
       "RandomForestRegressor(n_estimators=300, random_state=0)"
      ]
     },
     "execution_count": 57,
     "metadata": {},
     "output_type": "execute_result"
    }
   ],
   "source": [
    "from sklearn.ensemble import RandomForestRegressor\n",
    "# create regressor object\n",
    "regressor = RandomForestRegressor(n_estimators = 300, random_state = 0)\n",
    "# fit the regressor with x and y data\n",
    "regressor.fit(X_train, y_train)"
   ]
  },
  {
   "cell_type": "code",
   "execution_count": 58,
   "id": "77488cf1",
   "metadata": {},
   "outputs": [],
   "source": [
    "y_pred= regressor.predict(X_test)"
   ]
  },
  {
   "cell_type": "code",
   "execution_count": 59,
   "id": "3eb06e5a",
   "metadata": {},
   "outputs": [
    {
     "data": {
      "text/plain": [
       "array([ 69905.  ,  30730.  ,  42000.  ,  38845.  , 110980.  ,  32550.  ,\n",
       "        43248.  ,  28420.  ,  48000.  ,  45145.  ,  28500.  ,  48824.  ,\n",
       "        49750.5 ,      0.  ,  57500.  ,  51531.25,  49465.  ,  45507.3 ,\n",
       "        41330.  ,  25491.5 ,  45000.  ,  88700.  ,  74739.  ,  59990.  ,\n",
       "        21675.  ,  55577.25,  29740.  ,  43265.  ,  32150.  ,  87820.  ,\n",
       "            0.  ,  54000.  ,  30500.  ,  90980.  ,  20495.  ,  32121.5 ,\n",
       "        54850.5 ,  42075.  ,  31500.  ,  63905.  ,  28730.  ,  48490.  ,\n",
       "        45900.  ,  91905.  ,  49495.5 ,  60600.  ,      0.  ,  30594.05,\n",
       "        45000.  ,  87000.  , 118980.  ,  65720.  ,  30255.  ,  30550.  ,\n",
       "        43900.  ,  41570.  ,  48195.  ,  70665.  ,  29750.  ,  83580.  ])"
      ]
     },
     "execution_count": 59,
     "metadata": {},
     "output_type": "execute_result"
    }
   ],
   "source": [
    "y_test"
   ]
  },
  {
   "cell_type": "code",
   "execution_count": 60,
   "id": "c95ec66c",
   "metadata": {},
   "outputs": [
    {
     "data": {
      "text/plain": [
       "array([ 54447.37      ,  31066.27555556,  41404.005     ,  45472.33033333,\n",
       "       114501.93805556,  35399.91      ,  40735.43494444,  32830.72944444,\n",
       "        53957.975     ,  54252.685     ,  31676.26138889,  49643.28065873,\n",
       "        40735.43494444,  35409.46602778,  64108.77738889,  49643.28065873,\n",
       "        46876.27218849,  44299.97066667,  47860.75269444,  26696.74319444,\n",
       "        53495.736     ,  71399.18390476,  74489.66777778,  86379.20666667,\n",
       "        31944.27194444,  49638.05251984,  33099.73      ,  50495.73366667,\n",
       "        36664.97944444,  84707.58972222,  26485.65394444,  55550.54833333,\n",
       "        33099.73      ,  80769.17625   ,  23535.39811111,  36504.96833333,\n",
       "        49638.05251984,  41750.53333333,  31008.96444444,  70995.67259921,\n",
       "        33094.96283333,  53336.08566667,  54502.31844444,  64227.11565476,\n",
       "        49643.28065873,  58886.40872222,  23120.85819444,  37368.0045    ,\n",
       "        48222.94069444,  70870.08284921, 128151.06      ,  53615.71177778,\n",
       "        32747.64288889,  28413.37581349,  35301.70161111,  41379.38333333,\n",
       "        40735.43494444,  56644.67072222,  31510.14388889,  76245.37288889])"
      ]
     },
     "execution_count": 60,
     "metadata": {},
     "output_type": "execute_result"
    }
   ],
   "source": [
    "y_pred"
   ]
  },
  {
   "cell_type": "code",
   "execution_count": 61,
   "id": "d223382f",
   "metadata": {},
   "outputs": [
    {
     "name": "stdout",
     "output_type": "stream",
     "text": [
      "MAE:  7165.767572718257\n"
     ]
    }
   ],
   "source": [
    "#Mean Absolute Error(MAE)\n",
    "from sklearn.metrics import mean_absolute_error\n",
    "print(\"MAE: \",mean_absolute_error(y_test,y_pred))"
   ]
  },
  {
   "cell_type": "code",
   "execution_count": 62,
   "id": "ecbb0352",
   "metadata": {},
   "outputs": [
    {
     "name": "stdout",
     "output_type": "stream",
     "text": [
      "MSE:  107966388.72466356\n"
     ]
    }
   ],
   "source": [
    "#Mean Squared Error(MSE)\n",
    "from sklearn.metrics import mean_squared_error\n",
    "print(\"MSE: \",mean_squared_error(y_test,y_pred))"
   ]
  },
  {
   "cell_type": "code",
   "execution_count": 63,
   "id": "5e763123",
   "metadata": {},
   "outputs": [
    {
     "name": "stdout",
     "output_type": "stream",
     "text": [
      "RMSE:  10390.687596336613\n"
     ]
    }
   ],
   "source": [
    "#Root Mean Squared Error(RMSE)\n",
    "print(\"RMSE: \",np.sqrt(mean_squared_error(y_test,y_pred)))"
   ]
  },
  {
   "cell_type": "code",
   "execution_count": 64,
   "id": "3f11dd9a",
   "metadata": {},
   "outputs": [
    {
     "name": "stdout",
     "output_type": "stream",
     "text": [
      "R2:  0.8158774004518805\n"
     ]
    }
   ],
   "source": [
    "#R Squared (R2)\n",
    "from sklearn.metrics import r2_score\n",
    "r2 = r2_score(y_test,y_pred)\n",
    "print(\"R2: \",r2)"
   ]
  },
  {
   "cell_type": "code",
   "execution_count": null,
   "id": "bdba787a",
   "metadata": {},
   "outputs": [],
   "source": []
  }
 ],
 "metadata": {
  "kernelspec": {
   "display_name": "Python 3 (ipykernel)",
   "language": "python",
   "name": "python3"
  },
  "language_info": {
   "codemirror_mode": {
    "name": "ipython",
    "version": 3
   },
   "file_extension": ".py",
   "mimetype": "text/x-python",
   "name": "python",
   "nbconvert_exporter": "python",
   "pygments_lexer": "ipython3",
   "version": "3.9.12"
  }
 },
 "nbformat": 4,
 "nbformat_minor": 5
}
